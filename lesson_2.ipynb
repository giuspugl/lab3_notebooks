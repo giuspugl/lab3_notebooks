{
 "cells": [
  {
   "cell_type": "markdown",
   "id": "2d76630c-1917-4293-9ab2-e53345795ae4",
   "metadata": {},
   "source": [
    "## Lesson 2 \n",
    "in this class we'll learn how to exploit the `random` functionalities of python to handle distributions. Most of the functions will be in the module `np.random` https://numpy.org/doc/2.1/reference/random/index.html  \n",
    "\n",
    "\n",
    "- uniform distribution : np.random.uniform \n",
    "- normal     \"         : np.random.normal \n",
    "- Poisson     \"        : np.random.poisson \n"
   ]
  },
  {
   "cell_type": "code",
   "execution_count": 2,
   "id": "ba189b86-dca8-430c-8223-7937df7a92af",
   "metadata": {},
   "outputs": [],
   "source": [
    "import numpy as np\n",
    "import pylab as pl \n",
    "from scipy.optimize import curve_fit\n",
    "from lab3_utils import red_chi_squared, gaussian "
   ]
  },
  {
   "cell_type": "markdown",
   "id": "54ed7ae8-2006-4d4d-a564-746df71de828",
   "metadata": {},
   "source": [
    "### Uniform distributions "
   ]
  },
  {
   "cell_type": "markdown",
   "id": "48a7a85a-2ae1-47a0-bb38-954f29261dec",
   "metadata": {},
   "source": [
    "### Exercise \n",
    "- plot a normalized histogram of the distribution with 100 bins \n",
    "-   Generate different distributions with different choices of the `size` parameters \n",
    "-   plot the histograms into a single plot \n"
   ]
  },
  {
   "cell_type": "code",
   "execution_count": 35,
   "id": "98459370-66d2-4fcf-9c01-4829c3ab6fe6",
   "metadata": {},
   "outputs": [],
   "source": [
    "v =np.random.uniform( low=-1,high =1 ,  size= 4000  )\n",
    "\n",
    "### Your code here ... "
   ]
  },
  {
   "cell_type": "markdown",
   "id": "47648d5b-9470-4718-a59b-4606012cbf5e",
   "metadata": {},
   "source": [
    "### Non-uniform distributions "
   ]
  },
  {
   "cell_type": "markdown",
   "id": "a7be4294-63e1-4af5-affa-be7069bc9b3b",
   "metadata": {},
   "source": [
    "### Exercise on Normal distr.  \n",
    " - plot a normalized histogram of the distribution with 100 bins \n",
    " -  fit a gaussian function over the distribution (hint use the lesson_0 notebook to refresh your memory  ;-D ) \n",
    " -  estimate the $\\chi^2$ to assess the quality of the fit  "
   ]
  },
  {
   "cell_type": "code",
   "execution_count": 35,
   "id": "f9434ab2-813e-45e2-bf42-ca7cfe62592a",
   "metadata": {},
   "outputs": [],
   "source": [
    "v =np.random.normal( loc=-1,scale  =1 ,  size= 4000  )\n",
    "\n",
    "### Your code here ... "
   ]
  },
  {
   "cell_type": "markdown",
   "id": "657d8db8-513a-4de1-8f05-dc1d86195f37",
   "metadata": {
    "tags": []
   },
   "source": [
    "### Exercise on Poisson distr. \n",
    "  \n",
    " -   Generate different distributions with different choices of the `lam` parameter, \n",
    " -   plot the histograms into a single plot \n",
    " -   discuss how the distribution change.   "
   ]
  },
  {
   "cell_type": "code",
   "execution_count": 35,
   "id": "c6cbeb70-d888-42fb-92f6-b7b30196c9e5",
   "metadata": {},
   "outputs": [],
   "source": [
    "v =np.random.poisson(lam=3 , size= 400  )\n",
    "### Your code here ... "
   ]
  },
  {
   "cell_type": "markdown",
   "id": "d15baf6b-3ad5-47d5-80af-a23f1ce866a4",
   "metadata": {},
   "source": [
    "## Sample from any distribution\n",
    "#### Rejection Sampling \n",
    "\n",
    "0. Sample a point on the  x‑axis from the proposal distribution.\n",
    "1. Draw a vertical line at this x‑position, up to the $PDF(x)$-value  of the proposal distribution.\n",
    "2. Sample a y-value uniformly along this line from 0 to $PDF(x)$. \n",
    "3.   If $y>PDF(x) $ **reject** x and go back  to step 0; \n",
    "    else **accept**  x \n",
    "\n",
    "Let's assume a sine weighted distribution "
   ]
  },
  {
   "cell_type": "code",
   "execution_count": 71,
   "id": "3fa502e8-05ac-4fb0-a415-0a00b20ed0e1",
   "metadata": {},
   "outputs": [
    {
     "name": "stdout",
     "output_type": "stream",
     "text": [
      "157139\n"
     ]
    }
   ],
   "source": [
    "def rejection( n ):\n",
    "    accepted = 0\n",
    "    rejected = 0\n",
    "    total =0\n",
    "    accepted_x = []\n",
    "    while accepted < n:\n",
    "        total+=1 \n",
    "        ux = np.random.uniform(0, np.pi)\n",
    "        uy = np.random.uniform(0, 1)\n",
    "        if uy > np.sin(ux):\n",
    "            rejected += 1\n",
    "            continue\n",
    "        accepted += 1\n",
    "        accepted_x.append(ux)\n",
    "    return accepted_x,accepted, rejected , total \n",
    " \n",
    "N = int(1e5)   \n",
    "\n",
    "accepted_x,accepted, rejected , total= rejection (N) \n",
    "print(total )\n",
    "\n",
    "\n"
   ]
  },
  {
   "cell_type": "markdown",
   "id": "92afe8e7-4f38-49b8-8e21-f5e4fc9829c0",
   "metadata": {},
   "source": [
    "... or in a more _pythonic_ way (avoiding the while loop ....) "
   ]
  },
  {
   "cell_type": "code",
   "execution_count": 69,
   "id": "990ca998-ac6b-4c61-b803-97bc559cc424",
   "metadata": {},
   "outputs": [
    {
     "name": "stdout",
     "output_type": "stream",
     "text": [
      "63506 63506 36494\n"
     ]
    }
   ],
   "source": [
    "xvals = np.random.uniform(0, np.pi, N)   \n",
    "PDF  = np.sin(xvals)   \n",
    "yvals = np.random.uniform(0,1, N) \n",
    "\n",
    "mask_rejected = yvals  > PDF  \n",
    "rejected = xvals[mask_rejected ].size\n",
    "accepted = xvals[np.logical_not(mask_rejected)  ].size \n",
    "accepted_x = xvals[~ mask_rejected ]\n",
    "\n",
    "\n"
   ]
  },
  {
   "cell_type": "code",
   "execution_count": 70,
   "id": "96443837-98da-41c2-b8a4-9df79826b622",
   "metadata": {},
   "outputs": [
    {
     "name": "stdout",
     "output_type": "stream",
     "text": [
      "Red chi2 :0.916\n",
      "Rejection fraction = 0.3649\n",
      "Theoretical rejection = 0.3634\n",
      "Fit parameter A = 997.1159\n"
     ]
    },
    {
     "data": {
      "image/png": "[encoded data removed]",
      "text/plain": [
       "<Figure size 432x288 with 1 Axes>"
      ]
     },
     "metadata": {
      "needs_background": "light"
     },
     "output_type": "display_data"
    }
   ],
   "source": [
    "sin_func= lambda x, A: A * np.sin(x)\n",
    "# Costruiamo l'istogramma per il fit\n",
    "counts, bin_edges = np.histogram(accepted_x, bins=100, range=(0, np.pi), density=False)\n",
    "bin_centers = 0.5 * (bin_edges[1:] + bin_edges[:-1])\n",
    "    # Fit con A * sin(x)\n",
    "popt, pcov = curve_fit(sin_func, bin_centers, counts)\n",
    "A_fit = popt[0]\n",
    "\n",
    "plt.errorbar(bin_centers, counts, yerr=np.sqrt(counts), fmt='o', label='Sampled data', markersize=3)\n",
    "x_fit = np.linspace(0, np.pi, 500)\n",
    "y_fit = sin_func(x_fit, A_fit)\n",
    "plt.plot(x_fit, y_fit, 'r--', label=f'Fit: A·sin(x), A = {A_fit:.2f}')\n",
    "plt.title(\"Rejection sampling of sin(x) with fit\")\n",
    "plt.xlabel(\"x\")\n",
    "plt.ylabel(\"Counts\")\n",
    "plt.grid(True)\n",
    "plt.legend()\n",
    "# Risultati\n",
    "rejection_fraction = rejected / N\n",
    "theoretical = (np.pi - 2) / np.pi\n",
    "print(f\"Red chi2 :{red_chi_squared(y_exp=counts , y_obs = sin_func(bin_centers, A_fit), n_params=1, errors=np.sqrt(counts) ):.3f}\")\n",
    "\n",
    "print(f\"Rejection fraction = {rejection_fraction:.4f}\")\n",
    "print(f\"Theoretical rejection = {theoretical:.4f}\")\n",
    "print(f\"Fit parameter A = {A_fit:.4f}\")\n"
   ]
  },
  {
   "cell_type": "markdown",
   "id": "7d4fdd87-c62a-42f5-b294-7e82e8aac513",
   "metadata": {},
   "source": [
    "####  Inverse Sampling  \n",
    "\n",
    "generate samples from a power law  \n",
    "-  be $x$ a variable distributed with a certain PDF $P(x) \\propto x^{\\alpha}$  and Cumulative Distribution Function $C (x>t)= \\int_0 ^x P(t)dt  $ \n",
    "- Generate a uniform random number $u$ in the interval [0,1] \n",
    "- Find the generalized inverse of the desired CDF, i.e. $CDF^{-1}(u) $ \n",
    "- Compute a random variable  $\\tilde{x}= CDF^{-1}(u) $ that is distributed as $x$\n"
   ]
  },
  {
   "cell_type": "code",
   "execution_count": 7,
   "id": "155a4f9d-3996-45d6-a5fc-557c25bb3512",
   "metadata": {},
   "outputs": [
    {
     "data": {
      "image/png": "[encoded data removed]",
      "text/plain": [
       "<Figure size 432x288 with 1 Axes>"
      ]
     },
     "metadata": {
      "needs_background": "light"
     },
     "output_type": "display_data"
    },
    {
     "name": "stdout",
     "output_type": "stream",
     "text": [
      "Elapsed time: 0.08 s\n",
      "Fit parameter A = 15701.4266\n",
      "ChiSquare / Ndf = 0.9603\n"
     ]
    }
   ],
   "source": [
    "def inversion():\n",
    "    n = int(1e6)\n",
    "    start_time = time.time()\n",
    "\n",
    "    # Genera u uniformemente distribuiti in [-1, 1], poi x = arccos(u)\n",
    "    u = np.random.uniform(-1, 1, n)\n",
    "    x = np.arccos(u)\n",
    "\n",
    "    elapsed_time = time.time() - start_time\n",
    "\n",
    "    # Istogramma\n",
    "    counts, bin_edges = np.histogram(x, bins=100, range=(0, np.pi), density=False)\n",
    "    bin_centers = 0.5 * (bin_edges[1:] + bin_edges[:-1])\n",
    "\n",
    "    # Fit con A * sin(x)\n",
    "    popt, pcov = curve_fit(sin_func, bin_centers, counts)\n",
    "    A_fit = popt[0]\n",
    "\n",
    "    # Valori del fit per calcolo chi²\n",
    "    expected = sin_func(bin_centers, A_fit)\n",
    "    observed = counts\n",
    "    errors = np.sqrt(observed)\n",
    "    errors[errors == 0] = 1  # evita divisione per zero\n",
    "\n",
    "    chi2 = np.sum(((observed - expected) ** 2) / (errors ** 2))\n",
    "    ndf = len(observed) - 1  # 1 parametro nel fit\n",
    "    chi2_ndf = chi2 / ndf\n",
    "\n",
    "    # Plot\n",
    "    plt.errorbar(bin_centers, counts, yerr=np.sqrt(counts), fmt='o', markersize=3, label='Sampled data')\n",
    "    x_fit = np.linspace(0, np.pi, 500)\n",
    "    y_fit = sin_func(x_fit, A_fit)\n",
    "    plt.plot(x_fit, y_fit, 'r--', label=f'Fit: A·sin(x), A = {A_fit:.2f}')\n",
    "    plt.title(\"Inversion method: sin(x) distribution\")\n",
    "    plt.xlabel(\"x\")\n",
    "    plt.ylabel(\"Counts\")\n",
    "    plt.grid(True)\n",
    "    plt.legend()\n",
    "    plt.show()\n",
    "\n",
    "    # Output\n",
    "    print(f\"Elapsed time: {elapsed_time:.2f} s\")\n",
    "    print(f\"Fit parameter A = {A_fit:.4f}\")\n",
    "    print(f\"ChiSquare / Ndf = {chi2_ndf:.4f}\")\n",
    "\n",
    "# Esegui la funzione\n",
    "inversion()\n"
   ]
  },
  {
   "cell_type": "code",
   "execution_count": null,
   "id": "6e755c01-716e-4eb5-84c5-1ca6ba4432b0",
   "metadata": {},
   "outputs": [],
   "source": []
  },
  {
   "cell_type": "code",
   "execution_count": null,
   "id": "546829f8-0501-4945-ab1f-cfc40515da2f",
   "metadata": {},
   "outputs": [],
   "source": []
  }
 ],
 "metadata": {
  "kernelspec": {
   "display_name": "Python 3 (ipykernel)",
   "language": "python",
   "name": "python3"
  },
  "language_info": {
   "codemirror_mode": {
    "name": "ipython",
    "version": 3
   },
   "file_extension": ".py",
   "mimetype": "text/x-python",
   "name": "python",
   "nbconvert_exporter": "python",
   "pygments_lexer": "ipython3",
   "version": "3.9.6"
  }
 },
 "nbformat": 4,
 "nbformat_minor": 5
}
