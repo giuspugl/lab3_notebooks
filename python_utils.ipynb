{
 "cells": [
  {
   "cell_type": "markdown",
   "metadata": {
    "id": "JadQ_S3AwO0t"
   },
   "source": [
    "# Intro to python \n",
    "\n",
    "Welcome to Google Colaboratory, we will use this framework to ease up the execution of the notebooks presented in the classes of Astrophysics Lab. \n",
    "For more info about CoLab, plese look at [this tutorial](https://colab.research.google.com/#scrollTo=-Rh3-Vt9Nev9). \n",
    "\n",
    "# Lesson 0. Utilities of Numpy  \n",
    "\n",
    "The library `numpy` is one of the most important   python modules to deal with python arrays and matrices.  \n",
    "Let's see how a vector with  `N=100` elements is initialized. \n"
   ]
  },
  {
   "cell_type": "code",
   "execution_count": 1,
   "metadata": {
    "id": "Ow0odTzov9yG"
   },
   "outputs": [],
   "source": [
    "import numpy as np\n",
    "import pylab as pl "
   ]
  },
  {
   "cell_type": "code",
   "execution_count": 2,
   "metadata": {
    "colab": {
     "base_uri": "https://localhost:8080/"
    },
    "id": "IEh98PkuwBtT",
    "outputId": "4263dc59-2bbe-474a-a3e8-cbca4d9fb3c1"
   },
   "outputs": [
    {
     "name": "stdout",
     "output_type": "stream",
     "text": [
      "[0. 0. 0. 0. 0. 0. 0. 0. 0. 0. 0. 0. 0. 0. 0. 0. 0. 0. 0. 0. 0. 0. 0. 0.\n",
      " 0. 0. 0. 0. 0. 0. 0. 0. 0. 0. 0. 0. 0. 0. 0. 0. 0. 0. 0. 0. 0. 0. 0. 0.\n",
      " 0. 0. 0. 0. 0. 0. 0. 0. 0. 0. 0. 0. 0. 0. 0. 0. 0. 0. 0. 0. 0. 0. 0. 0.\n",
      " 0. 0. 0. 0. 0. 0. 0. 0. 0. 0. 0. 0. 0. 0. 0. 0. 0. 0. 0. 0. 0. 0. 0. 0.\n",
      " 0. 0. 0. 0.] <class 'numpy.ndarray'>\n"
     ]
    }
   ],
   "source": [
    "N=100 \n",
    "v= np.zeros(N, dtype=np.float_) \n",
    "print(v, type(v),)"
   ]
  },
  {
   "cell_type": "markdown",
   "metadata": {
    "id": "xchDopx7xyub"
   },
   "source": [
    "`v` is a `class`  object, employing several `attributes` and functionalities. like :  "
   ]
  },
  {
   "cell_type": "code",
   "execution_count": 3,
   "metadata": {
    "colab": {
     "base_uri": "https://localhost:8080/"
    },
    "id": "_SbxS7a-xXCo",
    "outputId": "b4402d1a-c4a6-4cec-91ef-8b84e4b7fd6a"
   },
   "outputs": [
    {
     "name": "stdout",
     "output_type": "stream",
     "text": [
      "100 0.0 49.5 28.86607004772212 0 99\n"
     ]
    }
   ],
   "source": [
    "v+= np.arange(N) \n",
    "\n",
    "print(  v.size, v.min(), v.mean(), v.std(), v.argmin(), v.argmax()  )"
   ]
  },
  {
   "cell_type": "markdown",
   "metadata": {
    "id": "rJrL_X_yx1au"
   },
   "source": [
    "please check the  [numpy documentation](https://numpy.org/) for more details.  Matrices can be initialized similarly . \n",
    " "
   ]
  },
  {
   "cell_type": "code",
   "execution_count": 4,
   "metadata": {
    "colab": {
     "base_uri": "https://localhost:8080/"
    },
    "id": "SiCBJGrnyntP",
    "outputId": "32e9f79a-a133-4a53-c812-7f41a464064e"
   },
   "outputs": [
    {
     "name": "stdout",
     "output_type": "stream",
     "text": [
      "[[1 0 3]\n",
      " [0 4 5]\n",
      " [2 3 0]]\n",
      "A is a (3, 3) matrix\n",
      "determinant :-38.99999999999999\n"
     ]
    }
   ],
   "source": [
    "A = np.matrix( [[1,0,3],[0,4,5],[2,3,0]]) \n",
    "print (A)\n",
    "print (f\"A is a {A.shape} matrix\"  )\n",
    "print(f\"determinant :{np.linalg.det(A)}\")\n"
   ]
  },
  {
   "cell_type": "markdown",
   "metadata": {
    "id": "xWfIZPlL0eCx"
   },
   "source": [
    "# Linear systems \n",
    "\n",
    "we can solve linear system easily , together with finding the eigenvalues and eigenvectors of $A$ "
   ]
  },
  {
   "cell_type": "code",
   "execution_count": 5,
   "metadata": {
    "colab": {
     "base_uri": "https://localhost:8080/"
    },
    "id": "XKsA5E_my1kL",
    "outputId": "96bfacb0-d251-43c5-ce03-3128a64ae257"
   },
   "outputs": [
    {
     "name": "stdout",
     "output_type": "stream",
     "text": [
      "solution of Ax = b, x=[0.46153846 0.02564103 0.17948718]\n",
      "check whether Ax -b =0  [[0. 0. 0.]]\n",
      "diagonal form of A:\n",
      " [[-3.39410744  0.          0.        ]\n",
      " [ 0.          1.72222899  0.        ]\n",
      " [ 0.          0.          6.67187845]]\n"
     ]
    }
   ],
   "source": [
    "b= np.ones(3)\n",
    "\n",
    "x= np.linalg.solve(A, b)\n",
    "\n",
    "print(f\"solution of Ax = b, x={x}\" )\n",
    "print(\"check whether Ax -b =0 \", A.dot(x) - b)\n",
    "\n",
    "\n",
    "lambdas, W= np.linalg.eig(A,  )\n",
    "Adiag= np.diag(lambdas)\n",
    "print(\"diagonal form of A:\\n\", Adiag    ) "
   ]
  },
  {
   "cell_type": "code",
   "execution_count": 6,
   "metadata": {
    "colab": {
     "base_uri": "https://localhost:8080/"
    },
    "id": "JkKWCvSh4IRS",
    "outputId": "c85533bb-2ec4-49c6-849c-27ab76712021"
   },
   "outputs": [
    {
     "name": "stdout",
     "output_type": "stream",
     "text": [
      "Check that Aw = lambda w\n",
      "w0 [[ 8.88178420e-16]\n",
      " [-6.66133815e-16]\n",
      " [ 1.33226763e-15]] \n",
      "w1 [[ 4.44089210e-16]\n",
      " [ 3.33066907e-16]\n",
      " [-4.44089210e-16]] \n",
      "w2 [[ 1.11022302e-15]\n",
      " [-8.88178420e-16]\n",
      " [ 2.22044605e-15]]\n"
     ]
    }
   ],
   "source": [
    "print( \"Check that Aw = lambda w\\nw0\",\n",
    "      A.dot(W[:,0]) - lambdas[0]* (W[:,0]), \"\\nw1\",\n",
    "A.dot(W[:,1]) - lambdas[1]* (W[:,1]), \"\\nw2\",\n",
    "A.dot(W[:,2]) - lambdas[2]* (W[:,2])) "
   ]
  },
  {
   "cell_type": "markdown",
   "metadata": {
    "id": "3WOxduaM8ucJ"
   },
   "source": [
    "## Integration and differentiation \n",
    "\n",
    "\n",
    "assume we have a function, \n",
    "$f(x) = 2x^3 + e^{-3x}$, and we wanna estimate the derivative and the integral. \n",
    "We can use _symbolic python_,  `sympy` to do the heavy lifting to  calulate and estimate'em  with the funcion `lambdify`. \n",
    "\n"
   ]
  },
  {
   "cell_type": "code",
   "execution_count": 7,
   "metadata": {},
   "outputs": [
    {
     "ename": "ModuleNotFoundError",
     "evalue": "No module named 'sympy'",
     "output_type": "error",
     "traceback": [
      "\u001b[0;31m---------------------------------------------------------------------------\u001b[0m",
      "\u001b[0;31mModuleNotFoundError\u001b[0m                       Traceback (most recent call last)",
      "Cell \u001b[0;32mIn[7], line 3\u001b[0m\n\u001b[1;32m      1\u001b[0m \u001b[38;5;28;01mimport\u001b[39;00m \u001b[38;5;21;01mscipy\u001b[39;00m\n\u001b[1;32m      2\u001b[0m \u001b[38;5;28;01mfrom\u001b[39;00m \u001b[38;5;21;01mscipy\u001b[39;00m\u001b[38;5;21;01m.\u001b[39;00m\u001b[38;5;21;01mintegrate\u001b[39;00m \u001b[38;5;28;01mimport\u001b[39;00m quad \n\u001b[0;32m----> 3\u001b[0m \u001b[38;5;28;01mimport\u001b[39;00m \u001b[38;5;21;01msympy\u001b[39;00m \n\u001b[1;32m      4\u001b[0m \u001b[38;5;28;01mfrom\u001b[39;00m \u001b[38;5;21;01msympy\u001b[39;00m \u001b[38;5;28;01mimport\u001b[39;00m lambdify\n\u001b[1;32m      5\u001b[0m \u001b[38;5;28;01mfrom\u001b[39;00m \u001b[38;5;21;01msympy\u001b[39;00m\u001b[38;5;21;01m.\u001b[39;00m\u001b[38;5;21;01mabc\u001b[39;00m \u001b[38;5;28;01mimport\u001b[39;00m x\n",
      "\u001b[0;31mModuleNotFoundError\u001b[0m: No module named 'sympy'"
     ]
    }
   ],
   "source": [
    "import scipy\n",
    "from scipy.integrate import quad \n",
    "import sympy \n",
    "from sympy import lambdify\n",
    "from sympy.abc import x"
   ]
  },
  {
   "cell_type": "code",
   "execution_count": null,
   "metadata": {
    "id": "LfVZwCS_6rJg"
   },
   "outputs": [],
   "source": [
    "f= 2*x**3 + sympy.exp(-3*x )\n",
    "# now the function becomes from symbolic to a real function written in python code \n",
    "func= lambdify(x, f )\n",
    "# it's implementation should be exactly the same as the following lines of code: \n",
    "def function (x): \n",
    "    return 2*x**3 + np.exp(-3*x) "
   ]
  },
  {
   "cell_type": "code",
   "execution_count": null,
   "metadata": {},
   "outputs": [],
   "source": [
    "xvalues= np.linspace(-1,1,128 )\n",
    "pl.plot(xvalues, function(xvalues), lw=2, label='f implemented')\n",
    "pl.plot(xvalues, func(xvalues),lw=6, alpha=.5 ,label='f lambdified')\n",
    "pl.plot(xvalues,function(xvalues) -func(xvalues), label='difference' )\n",
    "pl.legend() "
   ]
  },
  {
   "cell_type": "markdown",
   "metadata": {},
   "source": [
    "Estimating derivatives and integral is as simple as this: \n"
   ]
  },
  {
   "cell_type": "code",
   "execution_count": null,
   "metadata": {
    "scrolled": true
   },
   "outputs": [],
   "source": [
    "print(\"f(x)= \",f   )\n",
    "print(\"df/dx= \",f.diff()  )\n",
    "print(\"integral[f dx] = \",f.integrate()  )\n"
   ]
  },
  {
   "cell_type": "markdown",
   "metadata": {},
   "source": [
    "Thus we can even lambdify the primitive functions, $F$ to estimate the definite integral : \n",
    "$$\n",
    "F(b)- F(a) = \\int_a^b f dx\n",
    "$$\n",
    "we'll consider $a=-1$ and $b=1$"
   ]
  },
  {
   "cell_type": "code",
   "execution_count": null,
   "metadata": {},
   "outputs": [],
   "source": [
    "prim_func= lambdify(args=x, expr= f.integrate()  )\n",
    "a=-1\n",
    "b=1\n",
    "print(\"Definite integral\" , prim_func(b) - prim_func(a))"
   ]
  },
  {
   "cell_type": "markdown",
   "metadata": {
    "id": "sqjsW0TO9P6F"
   },
   "source": [
    "this result should be about the same as  the one obtained with `np.trapz` and to `scipy.integrate.quad`. We 'll show the different usage in the following: "
   ]
  },
  {
   "cell_type": "code",
   "execution_count": null,
   "metadata": {},
   "outputs": [],
   "source": [
    "int_np =np.trapz(y= func(xvalues), x=xvalues )\n",
    "print(\"Trapezoidal rule (numpy):\",int_np)\n",
    "\n",
    "int_sp =quad(function, a=-1, b=1 )\n",
    "print(\"Quadrature rule (scipy):\",int_sp)"
   ]
  },
  {
   "cell_type": "markdown",
   "metadata": {},
   "source": [
    "for the latter the second value returned is the error associated to the estimate. "
   ]
  },
  {
   "cell_type": "markdown",
   "metadata": {},
   "source": [
    "## Best-Fit   using `scipy.optimize.curve_fit`\n",
    "\n",
    "let's assume we've data distributed with a Normal distribution and we want to fit the Gaussian curve associated to it. \n",
    "We will use `curve_fit` to do this. We firstly generate our fake data set with random numbers normally distributed: "
   ]
  },
  {
   "cell_type": "code",
   "execution_count": null,
   "metadata": {},
   "outputs": [],
   "source": [
    "import scipy \n",
    "from scipy.optimize import curve_fit "
   ]
  },
  {
   "cell_type": "code",
   "execution_count": null,
   "metadata": {},
   "outputs": [],
   "source": [
    "\n",
    "xvalues = np.random.normal(loc=0, scale=4, size=1000)\n"
   ]
  },
  {
   "cell_type": "markdown",
   "metadata": {},
   "source": [
    "we will estimate the  histogram (normalized to 1), now the frequency $y$ in each bin $x$ correspond to our data we wanna fit, we also  associate fake error bars  to the measurements $y$,  $1\\%$ error bars ."
   ]
  },
  {
   "cell_type": "code",
   "execution_count": null,
   "metadata": {},
   "outputs": [],
   "source": [
    "\n",
    "y, edges  = pl.histogram(xvalues, bins=20, density=True  )\n",
    "yerr=np.ones_like(y)*0.01\n",
    "xbins = np.array([.5*(edges[i+1] + edges[i] ) for i in range(y.size )]) \n",
    "pl.errorbar( xbins, y,yerr= yerr , fmt='o'  )\n",
    "\n"
   ]
  },
  {
   "cell_type": "markdown",
   "metadata": {},
   "source": [
    "let's make the assumption now that the model  function is a gaussian , parametrized by 3 parameters, $A,\n",
    "\\mu, \\sigma$ "
   ]
  },
  {
   "cell_type": "code",
   "execution_count": null,
   "metadata": {},
   "outputs": [],
   "source": [
    "gaussian = lambda x,A ,  mu,sigma: A* np.exp(-(x-mu)**2/2/(sigma**2 ))\n"
   ]
  },
  {
   "cell_type": "markdown",
   "metadata": {},
   "source": [
    "estimate the best- fit  parameters"
   ]
  },
  {
   "cell_type": "code",
   "execution_count": null,
   "metadata": {},
   "outputs": [],
   "source": [
    "bestfit_params,covariances_params= curve_fit(gaussian, xbins, y ,sigma= yerr)"
   ]
  },
  {
   "cell_type": "code",
   "execution_count": null,
   "metadata": {},
   "outputs": [],
   "source": [
    "print((covariances_params)) "
   ]
  },
  {
   "cell_type": "code",
   "execution_count": null,
   "metadata": {},
   "outputs": [],
   "source": [
    "pl.errorbar( xbins, y,yerr= yerr , fmt='o', label='data'  )\n",
    "pl.plot( xbins, gaussian(xbins,*bestfit_params), label='best-fit' )\n",
    "pl.legend() \n",
    "pl.grid()\n",
    "\n"
   ]
  },
  {
   "cell_type": "markdown",
   "metadata": {},
   "source": [
    "## Finding the roots  \n",
    "\n",
    "Another useful think  is to find the zeros of a function, e.g.  \n",
    " \n",
    "$f(x_s) =  x - \\log {3x}=0 $\n",
    "\n",
    "let's find $x_s$ such that: \n",
    "\n",
    "$ x_s= \\log {3x_s}$\n"
   ]
  },
  {
   "cell_type": "code",
   "execution_count": null,
   "metadata": {},
   "outputs": [],
   "source": [
    "from scipy.optimize import root_scalar"
   ]
  },
  {
   "cell_type": "code",
   "execution_count": null,
   "metadata": {},
   "outputs": [],
   "source": [
    "def f(x): \n",
    "    return x -  np.log(3*x) \n",
    "\n",
    "xvalues= np.linspace(1e-6,2,128 )\n",
    "pl.plot(xvalues, f(xvalues))\n",
    "pl.grid()\n",
    "\n",
    "s= root_scalar(f,  bracket=[1e-4, 1], method='brentq')\n",
    "pl.scatter (s.root,f(s.root), marker='o'  ) \n",
    "pl.ylim(-1,2)\n",
    "print(s)\n",
    "s= root_scalar(f,  bracket=[ 1,2], method='brentq')\n",
    "pl.scatter (s.root,f(s.root), marker='o'  ) \n",
    "\n"
   ]
  }
 ],
 "metadata": {
  "colab": {
   "provenance": []
  },
  "kernelspec": {
   "display_name": "Python 3 (ipykernel)",
   "language": "python",
   "name": "python3"
  },
  "language_info": {
   "codemirror_mode": {
    "name": "ipython",
    "version": 3
   },
   "file_extension": ".py",
   "mimetype": "text/x-python",
   "name": "python",
   "nbconvert_exporter": "python",
   "pygments_lexer": "ipython3",
   "version": "3.12.2"
  }
 },
 "nbformat": 4,
 "nbformat_minor": 4
}
