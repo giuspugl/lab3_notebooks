{
  "cells": [
    {
      "cell_type": "markdown",
      "metadata": {
        "id": "JadQ_S3AwO0t"
      },
      "source": [
        "# Intro to python\n",
        "\n",
        "Welcome to Google Colaboratory, we will use this framework to ease up the execution of the notebooks presented in the classes of Astrophysics Lab.\n",
        "For more info about CoLab, plese look at [this tutorial](https://colab.research.google.com/#scrollTo=-Rh3-Vt9Nev9).\n",
        "\n",
        "# Lesson 0. Utilities of Numpy  \n",
        "\n",
        "The library `numpy` is one of the most important   python modules to deal with python arrays and matrices.  \n",
        "Let's see how a vector with  `N=100` elements is initialized.\n"
      ]
    },
    {
      "cell_type": "code",
      "execution_count": 1,
      "metadata": {
        "id": "Ow0odTzov9yG"
      },
      "outputs": [],
      "source": [
        "import numpy as np\n",
        "import pylab as pl"
      ]
    },
    {
      "cell_type": "code",
      "execution_count": 2,
      "metadata": {
        "colab": {
          "base_uri": "https://localhost:8080/"
        },
        "id": "IEh98PkuwBtT",
        "outputId": "15f89dbb-8e23-4912-d0aa-539e92f6f8bd"
      },
      "outputs": [
        {
          "output_type": "stream",
          "name": "stdout",
          "text": [
            "[0. 0. 0. 0. 0. 0. 0. 0. 0. 0. 0. 0. 0. 0. 0. 0. 0. 0. 0. 0. 0. 0. 0. 0.\n",
            " 0. 0. 0. 0. 0. 0. 0. 0. 0. 0. 0. 0. 0. 0. 0. 0. 0. 0. 0. 0. 0. 0. 0. 0.\n",
            " 0. 0. 0. 0. 0. 0. 0. 0. 0. 0. 0. 0. 0. 0. 0. 0. 0. 0. 0. 0. 0. 0. 0. 0.\n",
            " 0. 0. 0. 0. 0. 0. 0. 0. 0. 0. 0. 0. 0. 0. 0. 0. 0. 0. 0. 0. 0. 0. 0. 0.\n",
            " 0. 0. 0. 0.] <class 'numpy.ndarray'>\n"
          ]
        }
      ],
      "source": [
        "N=100\n",
        "v= np.zeros(N, dtype=float)\n",
        "print(v, type(v),)"
      ]
    },
    {
      "cell_type": "markdown",
      "metadata": {
        "id": "xchDopx7xyub"
      },
      "source": [
        "`v` is a `class`  object, employing several `attributes` and functionalities. like :  "
      ]
    },
    {
      "cell_type": "code",
      "execution_count": 3,
      "metadata": {
        "colab": {
          "base_uri": "https://localhost:8080/"
        },
        "id": "_SbxS7a-xXCo",
        "outputId": "ea6e793f-1398-48b6-a42e-7066e0a15852"
      },
      "outputs": [
        {
          "output_type": "stream",
          "name": "stdout",
          "text": [
            "100 0.0 49.5 28.86607004772212 0 99\n"
          ]
        }
      ],
      "source": [
        "v+= np.arange(N)\n",
        "\n",
        "print(  v.size, v.min(), v.mean(), v.std(), v.argmin(), v.argmax()  )"
      ]
    },
    {
      "cell_type": "markdown",
      "metadata": {
        "id": "rJrL_X_yx1au"
      },
      "source": [
        "please check the  [numpy documentation](https://numpy.org/) for more details.  Matrices can be initialized similarly .\n"
      ]
    },
    {
      "cell_type": "code",
      "execution_count": 4,
      "metadata": {
        "colab": {
          "base_uri": "https://localhost:8080/"
        },
        "id": "SiCBJGrnyntP",
        "outputId": "dde94771-a4bf-4d95-f959-298781b4bd2b"
      },
      "outputs": [
        {
          "output_type": "stream",
          "name": "stdout",
          "text": [
            "[[1 0 3]\n",
            " [0 4 5]\n",
            " [2 3 0]]\n",
            "A is a (3, 3) matrix\n",
            "determinant :-38.99999999999999\n"
          ]
        }
      ],
      "source": [
        "A = np.matrix( [[1,0,3],[0,4,5],[2,3,0]])\n",
        "print (A)\n",
        "print (f\"A is a {A.shape} matrix\"  )\n",
        "print(f\"determinant :{np.linalg.det(A)}\")\n"
      ]
    },
    {
      "cell_type": "markdown",
      "metadata": {
        "id": "xWfIZPlL0eCx"
      },
      "source": [
        "# Linear systems\n",
        "\n",
        "we can solve linear system easily , together with finding the eigenvalues and eigenvectors of $A$"
      ]
    },
    {
      "cell_type": "code",
      "execution_count": 5,
      "metadata": {
        "colab": {
          "base_uri": "https://localhost:8080/"
        },
        "id": "XKsA5E_my1kL",
        "outputId": "108a1e3f-d67a-4a22-c2f2-8d6836130662"
      },
      "outputs": [
        {
          "output_type": "stream",
          "name": "stdout",
          "text": [
            "solution of Ax = b, x=[0.46153846 0.02564103 0.17948718]\n",
            "check whether Ax -b =0  [[0. 0. 0.]]\n",
            "diagonal form of A:\n",
            " [[-3.39410744  0.          0.        ]\n",
            " [ 0.          1.72222899  0.        ]\n",
            " [ 0.          0.          6.67187845]]\n"
          ]
        }
      ],
      "source": [
        "b= np.ones(3)\n",
        "\n",
        "x= np.linalg.solve(A, b)\n",
        "\n",
        "print(f\"solution of Ax = b, x={x}\" )\n",
        "print(\"check whether Ax -b =0 \", A.dot(x) - b)\n",
        "\n",
        "\n",
        "lambdas, W= np.linalg.eig(A,  )\n",
        "Adiag= np.diag(lambdas)\n",
        "print(\"diagonal form of A:\\n\", Adiag    )"
      ]
    },
    {
      "cell_type": "code",
      "execution_count": 6,
      "metadata": {
        "colab": {
          "base_uri": "https://localhost:8080/"
        },
        "id": "JkKWCvSh4IRS",
        "outputId": "513d94b4-5e73-4553-a11d-3ccacfaa4b4c"
      },
      "outputs": [
        {
          "output_type": "stream",
          "name": "stdout",
          "text": [
            "Check that Aw = lambda w\n",
            "w0 [[ 6.66133815e-16]\n",
            " [-2.22044605e-16]\n",
            " [-4.44089210e-16]] \n",
            "w1 [[-2.22044605e-16]\n",
            " [ 1.11022302e-16]\n",
            " [ 5.55111512e-17]] \n",
            "w2 [[4.4408921e-16]\n",
            " [0.0000000e+00]\n",
            " [4.4408921e-16]]\n"
          ]
        }
      ],
      "source": [
        "print( \"Check that Aw = lambda w\\nw0\",\n",
        "      A.dot(W[:,0]) - lambdas[0]* (W[:,0]), \"\\nw1\",\n",
        "A.dot(W[:,1]) - lambdas[1]* (W[:,1]), \"\\nw2\",\n",
        "A.dot(W[:,2]) - lambdas[2]* (W[:,2]))"
      ]
    },
    {
      "cell_type": "markdown",
      "metadata": {
        "id": "3WOxduaM8ucJ"
      },
      "source": [
        "## Integration and differentiation\n",
        "\n",
        "\n",
        "assume we have a function,\n",
        "$f(x) = 2x^3 + e^{-3x}$, and we wanna estimate the derivative and the integral.\n",
        "We can use _symbolic python_,  `sympy` to do the heavy lifting to  calulate and estimate'em  with the funcion `lambdify`.\n",
        "\n"
      ]
    },
    {
      "cell_type": "code",
      "execution_count": 7,
      "metadata": {
        "id": "mAH8zUCdpWaa"
      },
      "outputs": [],
      "source": [
        "import scipy\n",
        "from scipy.integrate import quad\n",
        "import sympy\n",
        "from sympy import lambdify\n",
        "from sympy.abc import x"
      ]
    },
    {
      "cell_type": "code",
      "execution_count": 8,
      "metadata": {
        "id": "LfVZwCS_6rJg"
      },
      "outputs": [],
      "source": [
        "f= 2*x**3 + sympy.exp(-3*x )\n",
        "# now the function becomes from symbolic to a real function written in python code\n",
        "func= lambdify(x, f )\n",
        "# it's implementation should be exactly the same as the following lines of code:\n",
        "def function (x):\n",
        "    return 2*x**3 + np.exp(-3*x)"
      ]
    },
    {
      "cell_type": "code",
      "execution_count": 9,
      "metadata": {
        "colab": {
          "base_uri": "https://localhost:8080/",
          "height": 447
        },
        "id": "a0xIBQJipWaa",
        "outputId": "1767c92b-ddc5-4355-b245-01779b87be4c"
      },
      "outputs": [
        {
          "output_type": "execute_result",
          "data": {
            "text/plain": [
              "<matplotlib.legend.Legend at 0x780368552a90>"
            ]
          },
          "metadata": {},
          "execution_count": 9
        },
        {
          "output_type": "display_data",
          "data": {
            "text/plain": [
              "<Figure size 640x480 with 1 Axes>"
            ],
            "image/png": "[encoded data removed]"
          },
          "metadata": {}
        }
      ],
      "source": [
        "xvalues= np.linspace(-1,1,128 )\n",
        "pl.plot(xvalues, function(xvalues), lw=2, label='f implemented')\n",
        "pl.plot(xvalues, func(xvalues),lw=6, alpha=.5 ,label='f lambdified')\n",
        "pl.plot(xvalues,function(xvalues) -func(xvalues), label='difference' )\n",
        "pl.legend()"
      ]
    },
    {
      "cell_type": "markdown",
      "metadata": {
        "id": "Rtar6nxxpWab"
      },
      "source": [
        "Estimating derivatives and integral is as simple as this:\n"
      ]
    },
    {
      "cell_type": "code",
      "execution_count": 10,
      "metadata": {
        "colab": {
          "base_uri": "https://localhost:8080/"
        },
        "id": "d3gt3ijTpWab",
        "outputId": "43abeda1-5dad-4339-b4f0-2e55e25ce173",
        "scrolled": true
      },
      "outputs": [
        {
          "output_type": "stream",
          "name": "stdout",
          "text": [
            "f(x)=  2*x**3 + exp(-3*x)\n",
            "df/dx=  6*x**2 - 3*exp(-3*x)\n",
            "integral[f dx] =  x**4/2 - exp(-3*x)/3\n"
          ]
        }
      ],
      "source": [
        "print(\"f(x)= \",f   )\n",
        "print(\"df/dx= \",f.diff()  )\n",
        "print(\"integral[f dx] = \",f.integrate()  )\n"
      ]
    },
    {
      "cell_type": "markdown",
      "metadata": {
        "id": "5pa8D-rPpWab"
      },
      "source": [
        "Thus we can even lambdify the primitive functions, $F$ to estimate the definite integral :\n",
        "$$\n",
        "F(b)- F(a) = \\int_a^b f dx\n",
        "$$\n",
        "we'll consider $a=-1$ and $b=1$"
      ]
    },
    {
      "cell_type": "code",
      "execution_count": 11,
      "metadata": {
        "colab": {
          "base_uri": "https://localhost:8080/"
        },
        "id": "5Va14oVvpWab",
        "outputId": "8b580452-574c-4b08-c3c7-c9f29bdd9d54"
      },
      "outputs": [
        {
          "output_type": "stream",
          "name": "stdout",
          "text": [
            "Definite integral 6.6785832849399345\n"
          ]
        }
      ],
      "source": [
        "prim_func= lambdify(args=x, expr= f.integrate()  )\n",
        "a=-1\n",
        "b=1\n",
        "print(\"Definite integral\" , prim_func(b) - prim_func(a))"
      ]
    },
    {
      "cell_type": "markdown",
      "metadata": {
        "id": "sqjsW0TO9P6F"
      },
      "source": [
        "this result should be about the same as  the one obtained with `np.trapz` and to `scipy.integrate.quad`. We 'll show the different usage in the following:"
      ]
    },
    {
      "cell_type": "code",
      "execution_count": 12,
      "metadata": {
        "colab": {
          "base_uri": "https://localhost:8080/"
        },
        "id": "LCGb2xzdpWab",
        "outputId": "5d918d57-6814-4b62-b890-6b76852f79de"
      },
      "outputs": [
        {
          "output_type": "stream",
          "name": "stdout",
          "text": [
            "Trapezoidal rule (numpy): 6.679825457707189\n",
            "Quadrature rule (scipy): (6.6785832849399345, 7.414716934817028e-14)\n"
          ]
        },
        {
          "output_type": "stream",
          "name": "stderr",
          "text": [
            "<ipython-input-12-5b948e5beea9>:1: DeprecationWarning: `trapz` is deprecated. Use `trapezoid` instead, or one of the numerical integration functions in `scipy.integrate`.\n",
            "  int_np =np.trapz(y= func(xvalues), x=xvalues )\n"
          ]
        }
      ],
      "source": [
        "int_np =np.trapz(y= func(xvalues), x=xvalues )\n",
        "print(\"Trapezoidal rule (numpy):\",int_np)\n",
        "\n",
        "int_sp =quad(function, a=-1, b=1 )\n",
        "print(\"Quadrature rule (scipy):\",int_sp)"
      ]
    },
    {
      "cell_type": "markdown",
      "metadata": {
        "id": "_12Mv9vs_7r1"
      },
      "source": []
    },
    {
      "cell_type": "markdown",
      "metadata": {
        "id": "gzXUCx3BpWab"
      },
      "source": [
        "for the latter the second value returned is the error associated to the estimate."
      ]
    },
    {
      "cell_type": "markdown",
      "metadata": {
        "id": "Dei8Jv1CpWac"
      },
      "source": [
        "## Finding the roots  \n",
        "\n",
        "Another useful think  is to find the zeros of a function, e.g.  \n",
        "\n",
        "$f(x_s) =  x - \\log {3x}=0 $\n",
        "\n",
        "let's find $x_s$ such that:\n",
        "\n",
        "$ x_s= \\log {3x_s}$\n"
      ]
    },
    {
      "cell_type": "code",
      "execution_count": 13,
      "metadata": {
        "id": "-193U9TvpWac"
      },
      "outputs": [],
      "source": [
        "from scipy.optimize import root_scalar"
      ]
    },
    {
      "cell_type": "code",
      "execution_count": 14,
      "metadata": {
        "colab": {
          "base_uri": "https://localhost:8080/",
          "height": 556
        },
        "id": "mCkUA_j7pWac",
        "outputId": "d0391f59-dc3d-4b0f-8ab7-8fd3601d4f04"
      },
      "outputs": [
        {
          "output_type": "stream",
          "name": "stdout",
          "text": [
            "      converged: True\n",
            "           flag: converged\n",
            " function_calls: 10\n",
            "     iterations: 9\n",
            "           root: 0.6190612867359375\n",
            "         method: brentq\n"
          ]
        },
        {
          "output_type": "execute_result",
          "data": {
            "text/plain": [
              "<matplotlib.collections.PathCollection at 0x78036840ee10>"
            ]
          },
          "metadata": {},
          "execution_count": 14
        },
        {
          "output_type": "display_data",
          "data": {
            "text/plain": [
              "<Figure size 640x480 with 1 Axes>"
            ],
            "image/png": "[encoded data removed]"
          },
          "metadata": {}
        }
      ],
      "source": [
        "def f(x):\n",
        "    return x -  np.log(3*x)\n",
        "\n",
        "xvalues= np.linspace(1e-6,2,128 )\n",
        "pl.plot(xvalues, f(xvalues))\n",
        "pl.grid()\n",
        "\n",
        "s= root_scalar(f,  bracket=[1e-4, 1], method='brentq')\n",
        "pl.scatter (s.root,f(s.root), marker='o'  )\n",
        "pl.ylim(-1,2)\n",
        "print(s)\n",
        "s= root_scalar(f,  bracket=[ 1,2], method='brentq')\n",
        "pl.scatter (s.root,f(s.root), marker='o'  )\n",
        "\n"
      ]
    },
    {
      "cell_type": "markdown",
      "metadata": {
        "id": "mjOA2yo9pWab"
      },
      "source": [
        "## Best-Fit   using `scipy.optimize.curve_fit`\n",
        "\n",
        "let's assume we've data distributed with a Normal distribution and we want to fit the Gaussian curve associated to it.\n",
        "We will use `curve_fit` to do this. We firstly generate our fake data set with random numbers normally distributed:"
      ]
    },
    {
      "cell_type": "code",
      "execution_count": 15,
      "metadata": {
        "id": "F5FUOvQwpWab"
      },
      "outputs": [],
      "source": [
        "import scipy\n",
        "from scipy.optimize import curve_fit"
      ]
    },
    {
      "cell_type": "code",
      "execution_count": 16,
      "metadata": {
        "id": "ojqyFCR4pWab"
      },
      "outputs": [],
      "source": [
        "\n",
        "xvalues = np.random.normal(loc=0, scale=4, size=1000)\n"
      ]
    },
    {
      "cell_type": "markdown",
      "metadata": {
        "id": "xWNhqFqLpWab"
      },
      "source": [
        "we will estimate the  histogram (normalized to 1), now the frequency $y$ in each bin $x$ correspond to our data we wanna fit, we also  associate fake error bars  to the measurements $y$,  $1\\%$ error bars ."
      ]
    },
    {
      "cell_type": "code",
      "execution_count": 23,
      "metadata": {
        "colab": {
          "base_uri": "https://localhost:8080/",
          "height": 451
        },
        "id": "mgQLQDLMpWab",
        "outputId": "d8c89ba0-4cd6-4c12-9b59-6c8e6a4e7ef2"
      },
      "outputs": [
        {
          "output_type": "execute_result",
          "data": {
            "text/plain": [
              "<ErrorbarContainer object of 3 artists>"
            ]
          },
          "metadata": {},
          "execution_count": 23
        },
        {
          "output_type": "display_data",
          "data": {
            "text/plain": [
              "<Figure size 640x480 with 1 Axes>"
            ],
            "image/png": "[encoded data removed]"
          },
          "metadata": {}
        }
      ],
      "source": [
        "\n",
        "y, edges  = pl.histogram(xvalues, bins=20, density=True  )\n",
        "yerr=np.ones_like(y)*0.01\n",
        "pl.hist(xvalues,bins=20,density=True)\n",
        "xbins = np.array([.5*(edges[i+1] + edges[i] ) for i in range(y.size )])\n",
        "pl.errorbar( xbins, y,yerr= yerr , fmt='o'  )\n",
        "\n"
      ]
    },
    {
      "cell_type": "markdown",
      "metadata": {
        "id": "rROTwGkTpWab"
      },
      "source": [
        "let's make the assumption now that the model  function is a gaussian , parametrized by 3 parameters, $A,\n",
        "\\mu, \\sigma$"
      ]
    },
    {
      "cell_type": "code",
      "execution_count": 18,
      "metadata": {
        "id": "BdgBs6WApWab"
      },
      "outputs": [],
      "source": [
        "gaussian = lambda x,A ,  mu,sigma: A* np.exp(-(x-mu)**2/2/(sigma**2 ))\n"
      ]
    },
    {
      "cell_type": "markdown",
      "metadata": {
        "id": "laDNcjmepWab"
      },
      "source": [
        "estimate the best- fit  parameters"
      ]
    },
    {
      "cell_type": "code",
      "execution_count": 19,
      "metadata": {
        "id": "HYUX7MfDpWab"
      },
      "outputs": [],
      "source": [
        "bestfit_params,covariances_params= curve_fit(gaussian, xbins, y ,sigma= yerr)"
      ]
    },
    {
      "cell_type": "code",
      "execution_count": 20,
      "metadata": {
        "colab": {
          "base_uri": "https://localhost:8080/"
        },
        "id": "KLowJ0ddpWab",
        "outputId": "725c255e-806e-475e-fb25-98668c38663e"
      },
      "outputs": [
        {
          "output_type": "stream",
          "name": "stdout",
          "text": [
            "[[ 4.09696800e-06 -1.19588490e-08 -1.12536026e-04]\n",
            " [-1.19588490e-08  9.26651881e-03  1.08219581e-06]\n",
            " [-1.12536026e-04  1.08219581e-06  9.27084579e-03]]\n"
          ]
        }
      ],
      "source": [
        "print((covariances_params))"
      ]
    },
    {
      "cell_type": "code",
      "execution_count": 21,
      "metadata": {
        "colab": {
          "base_uri": "https://localhost:8080/",
          "height": 434
        },
        "id": "Uf9xWVCLpWab",
        "outputId": "13db15a8-cc79-4499-e96d-ba42a4278b82"
      },
      "outputs": [
        {
          "output_type": "display_data",
          "data": {
            "text/plain": [
              "<Figure size 640x480 with 1 Axes>"
            ],
            "image/png": "[encoded data removed]"
          },
          "metadata": {}
        }
      ],
      "source": [
        "pl.errorbar( xbins, y,yerr= yerr , fmt='o', label='data'  )\n",
        "pl.plot( xbins, gaussian(xbins,*bestfit_params), label='best-fit' )\n",
        "pl.legend()\n",
        "pl.grid()\n",
        "\n"
      ]
    },
    {
      "cell_type": "markdown",
      "metadata": {
        "id": "enq58WHM_-Q1"
      },
      "source": [
        "# Hands-on Exercise\n",
        "\n",
        "Fit the dependency of the absorption rate  of $\\beta $ particles across layers  of Alluminium with the following thickness:\n",
        "\n",
        "`0.00, 0.06, 0.49, 1.21, 1.27, 1.36` mm\n",
        "all with an error of `es=0.01` mm\n",
        "\n",
        "the times measured to absorb through  these layers are:\n",
        "\n",
        "`144, 45, 73, 129, 151, 145` sec\n",
        "\n",
        "knowing that the counts for the background are\n",
        "```\n",
        "    Nf = 15168  \n",
        "    eNf = np.sqrt(Nf)  # error on Nf\n",
        "```\n",
        "and the time measured is\n",
        "```    \n",
        "    tf = 50880  # Tempo misura fondo in s\n",
        "```\n",
        "\n",
        "1. Estimate the rate and its related error knowing that  :\n",
        "$$R (s) = N_s/t_s - N_f/t_f $$\n",
        "propagate the error bars from the previous formula (neglecting the errors on time measurements).\n",
        "2. plot the estimated rates (with error bars) as a function of the thickness of the Al layer\n",
        "3. Use `curve_fit` to fit the parameters of an exponential law:\n",
        "  $$\n",
        "  R(s)= A e^{ s / \\, \\lambda }\n",
        "  $$\n",
        "4. Print the fitted parameters\n",
        "5.  Plot the fitted function  together with the measurements\n",
        "\n",
        "*Hint*: you can start your code by simulating the data with the  following lines\n",
        "\n",
        "```\n",
        "n = 6\n",
        "   \n",
        "es = np.ones(n) *0.01  # Array error on thickness\n",
        "N = np.zeros(n)  # Array counts\n",
        "eN = np.zeros(n)  # Array count errors\n",
        "# measurements without Al layer\n",
        "N[0] = 1000\n",
        "eN[0] = np.sqrt(N[0])\n",
        "es[0] = 0.01\n",
        "# measurements with Al layer\n",
        "for i in range(1, n):\n",
        "  es[i] = 0.01\n",
        "  N[i] = 300\n",
        "  eN[i] = np.sqrt(N[i])\n",
        "```"
      ]
    }
  ],
  "metadata": {
    "colab": {
      "provenance": []
    },
    "kernelspec": {
      "display_name": "Python 3 (ipykernel)",
      "language": "python",
      "name": "python3"
    },
    "language_info": {
      "codemirror_mode": {
        "name": "ipython",
        "version": 3
      },
      "file_extension": ".py",
      "mimetype": "text/x-python",
      "name": "python",
      "nbconvert_exporter": "python",
      "pygments_lexer": "ipython3",
      "version": "3.12.2"
    }
  },
  "nbformat": 4,
  "nbformat_minor": 0
}